{
 "cells": [
  {
   "attachments": {},
   "cell_type": "markdown",
   "metadata": {},
   "source": [
    "# News Data Crawing"
   ]
  },
  {
   "cell_type": "code",
   "execution_count": 6,
   "metadata": {},
   "outputs": [],
   "source": [
    "from bs4 import BeautifulSoup\n",
    "import urllib.request"
   ]
  },
  {
   "attachments": {},
   "cell_type": "markdown",
   "metadata": {},
   "source": [
    "### create data file"
   ]
  },
  {
   "cell_type": "code",
   "execution_count": 7,
   "metadata": {},
   "outputs": [],
   "source": [
    "f = open('./news_data_sample.txt', 'w', encoding = 'UTF-8')"
   ]
  },
  {
   "cell_type": "code",
   "execution_count": 8,
   "metadata": {},
   "outputs": [],
   "source": [
    "#- 5508210 - 5508310 = 100개\n",
    "for index in range(5507310, 5508310):\n",
    "    news_url = 'https://news.kbs.co.kr/news/view.do?ncd=%d' % index\n",
    "    html = urllib.request.urlopen(news_url)\n",
    "    soup = BeautifulSoup(html, 'html.parser')\n",
    "    \n",
    "    #- 기사 제목이 있는 태그 크롤링\n",
    "    title = soup.select_one('title').text\n",
    "    \n",
    "    #- 기사 본문이 있는 태그 크롤링\n",
    "    try:\n",
    "        content = soup.select_one('div.view_con_text').text.strip()\n",
    "    except Exception as e:\n",
    "        continue\n",
    "    \n",
    "     #- 기사 카테고리가 있는 태그 크롤링\n",
    "    try:\n",
    "        label= soup.select_one('a.cate').text.strip()\n",
    "    except Exception as e:\n",
    "        continue\n",
    "    \n",
    "    #- 크롤링한 텍스트를 txt 파일에 입력\n",
    "    f.write(f'{title}\\t{label}\\t{content}\\n')\n",
    "    \n",
    "    #- 만약 원하는 카테고리만 크롤링할 경우 상단 코드는 주석처리한 뒤, 하단 코드를 활용\n",
    "    \n",
    "    '''\n",
    "    label_list = ['정치', '경제', '문화'] #- 필요에 맞게 수정\n",
    "    if label in label_list:\n",
    "        f.write(f'{title}\\t{label}\\t{content}\\n')\n",
    "    else:\n",
    "        continue\n",
    "    '''\n",
    "\n",
    "f.close()"
   ]
  },
  {
   "cell_type": "code",
   "execution_count": null,
   "metadata": {},
   "outputs": [],
   "source": []
  }
 ],
 "metadata": {
  "kernelspec": {
   "display_name": "Python 3.8.13 ('craw')",
   "language": "python",
   "name": "python3"
  },
  "language_info": {
   "codemirror_mode": {
    "name": "ipython",
    "version": 3
   },
   "file_extension": ".py",
   "mimetype": "text/x-python",
   "name": "python",
   "nbconvert_exporter": "python",
   "pygments_lexer": "ipython3",
   "version": "3.8.13"
  },
  "orig_nbformat": 4,
  "vscode": {
   "interpreter": {
    "hash": "f97663bcf13bda84a2fccf6bb3d6bacc9cc70491763236fb82b3145fddda44a1"
   }
  }
 },
 "nbformat": 4,
 "nbformat_minor": 2
}
