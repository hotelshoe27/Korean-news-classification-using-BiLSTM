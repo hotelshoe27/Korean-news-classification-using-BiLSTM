{
 "cells": [
  {
   "attachments": {},
   "cell_type": "markdown",
   "metadata": {},
   "source": [
    "# News Data Classification"
   ]
  },
  {
   "cell_type": "code",
   "execution_count": 1,
   "metadata": {},
   "outputs": [],
   "source": [
    "import pandas as pd\n",
    "import numpy as np\n",
    "import matplotlib.pyplot as pl\n",
    "from sklearn.model_selection import train_test_split\n",
    "from tensorflow.keras.preprocessing.text import Tokenizer\n",
    "from tensorflow.keras.preprocessing.sequence import pad_sequences\n",
    "from eunjeon import Mecab\n",
    "import matplotlib.pyplot as plt\n",
    "from sklearn.preprocessing import LabelEncoder"
   ]
  },
  {
   "attachments": {},
   "cell_type": "markdown",
   "metadata": {},
   "source": [
    "### Data preprocessing"
   ]
  },
  {
   "cell_type": "code",
   "execution_count": 2,
   "metadata": {},
   "outputs": [
    {
     "data": {
      "text/html": [
       "<div>\n",
       "<style scoped>\n",
       "    .dataframe tbody tr th:only-of-type {\n",
       "        vertical-align: middle;\n",
       "    }\n",
       "\n",
       "    .dataframe tbody tr th {\n",
       "        vertical-align: top;\n",
       "    }\n",
       "\n",
       "    .dataframe thead th {\n",
       "        text-align: right;\n",
       "    }\n",
       "</style>\n",
       "<table border=\"1\" class=\"dataframe\">\n",
       "  <thead>\n",
       "    <tr style=\"text-align: right;\">\n",
       "      <th></th>\n",
       "      <th>label</th>\n",
       "      <th>content</th>\n",
       "    </tr>\n",
       "  </thead>\n",
       "  <tbody>\n",
       "    <tr>\n",
       "      <th>0</th>\n",
       "      <td>국제</td>\n",
       "      <td>우크라이나 침공을 감행한 블라디미르 푸틴 러시아 대통령은 18일(현지시각) 올라프 ...</td>\n",
       "    </tr>\n",
       "    <tr>\n",
       "      <th>1</th>\n",
       "      <td>국제</td>\n",
       "      <td>다음 달부터는 태국에 입국할 때 코로나19 PCR(유전자증폭) 검사 음성 결과서를 ...</td>\n",
       "    </tr>\n",
       "    <tr>\n",
       "      <th>2</th>\n",
       "      <td>국제</td>\n",
       "      <td>러시아 중앙은행이 지난달 환율 방어 차원에서 급격히 인상했던 기준금리를 연 20% ...</td>\n",
       "    </tr>\n",
       "    <tr>\n",
       "      <th>3</th>\n",
       "      <td>국제</td>\n",
       "      <td>라트비아, 에스토니아, 리투아니아 등 발트 3국이 모두 10명의 러시아 외교관을 추...</td>\n",
       "    </tr>\n",
       "    <tr>\n",
       "      <th>4</th>\n",
       "      <td>사회</td>\n",
       "      <td>대설이 예고된 가운데 행정안전부는 밤 9시 기준으로 경보 수준을 ‘관심’에서 ‘주의...</td>\n",
       "    </tr>\n",
       "    <tr>\n",
       "      <th>5</th>\n",
       "      <td>국제</td>\n",
       "      <td>우크라이나 영토 내에서 운송되는 의심스러운 화물은 러시아군의 공격 목표가 될 것이라...</td>\n",
       "    </tr>\n",
       "    <tr>\n",
       "      <th>6</th>\n",
       "      <td>국제</td>\n",
       "      <td>시진핑 중국 국가주석은 “우크라이나 위기는 우리가 보고 싶어하지 않은 것”이라며 “...</td>\n",
       "    </tr>\n",
       "    <tr>\n",
       "      <th>7</th>\n",
       "      <td>국제</td>\n",
       "      <td>블라디미르 푸틴 러시아 대통령은 러시아군의 우크라이나 군사작전은 우크라이나 동부 돈...</td>\n",
       "    </tr>\n",
       "    <tr>\n",
       "      <th>8</th>\n",
       "      <td>국제</td>\n",
       "      <td>러시아군은 이스칸데르 미사일로 우크라이나군의 미사일 발사대를 파괴했다고 이고리 코나...</td>\n",
       "    </tr>\n",
       "    <tr>\n",
       "      <th>9</th>\n",
       "      <td>국제</td>\n",
       "      <td>올라프 숄츠 독일 총리가 오는 24일(현지시각) 주요 7개국(G7) 정상회의를 소집...</td>\n",
       "    </tr>\n",
       "    <tr>\n",
       "      <th>10</th>\n",
       "      <td>국제</td>\n",
       "      <td>오늘(18일) 밤 11시 25분에 일본 이와테현(혼슈) 모리오카 동북동쪽 87km ...</td>\n",
       "    </tr>\n",
       "    <tr>\n",
       "      <th>11</th>\n",
       "      <td>국제</td>\n",
       "      <td>화물열차 운행 재개에 따라 올해 들어 2월까지 북한과 중국의 교역액이 전년 같은 기...</td>\n",
       "    </tr>\n",
       "    <tr>\n",
       "      <th>12</th>\n",
       "      <td>국제</td>\n",
       "      <td>미국 국방정보 당국은 북한이 이란 등에 무기를 판매하는 것은 물론 쿠데타로 집권한 ...</td>\n",
       "    </tr>\n",
       "    <tr>\n",
       "      <th>13</th>\n",
       "      <td>국제</td>\n",
       "      <td>우크라이나 전쟁이 길어지면서 민간인 사망자도 20여 일 만에 8백 명을 넘어섰습니다...</td>\n",
       "    </tr>\n",
       "    <tr>\n",
       "      <th>14</th>\n",
       "      <td>IT·과학</td>\n",
       "      <td>오늘(18일) 밤 11시 25분쯤 일본 이와테현(혼슈) 모리오카 동북동쪽 87km ...</td>\n",
       "    </tr>\n",
       "    <tr>\n",
       "      <th>15</th>\n",
       "      <td>국제</td>\n",
       "      <td>네덜란드와 독일 정부가 슬로바키아에 패트리엇 미사일 방어 체계를 보낼 것이라고 밝혔...</td>\n",
       "    </tr>\n",
       "    <tr>\n",
       "      <th>16</th>\n",
       "      <td>국제</td>\n",
       "      <td>러시아와 우크라이나가 정부가 벌이고 있는 4차 평화협상에 대한 러시아측과 우크라이나...</td>\n",
       "    </tr>\n",
       "    <tr>\n",
       "      <th>17</th>\n",
       "      <td>국제</td>\n",
       "      <td>볼로디미르 젤렌스키 우크라이나 대통령은 우크라이나 동남부 항구도시 마리우폴의 극장에...</td>\n",
       "    </tr>\n",
       "    <tr>\n",
       "      <th>18</th>\n",
       "      <td>국제</td>\n",
       "      <td>미국 상무부는 러시아 항공사가 운영하는 비행기 100대에 대해 국제선 운항을 금지키...</td>\n",
       "    </tr>\n",
       "    <tr>\n",
       "      <th>19</th>\n",
       "      <td>국제</td>\n",
       "      <td>시진핑 중국 국가주석은 우크라이나 사태와 관련해, \"미국과 북대서양조약기구(NATO...</td>\n",
       "    </tr>\n",
       "  </tbody>\n",
       "</table>\n",
       "</div>"
      ],
      "text/plain": [
       "    label                                            content\n",
       "0      국제  우크라이나 침공을 감행한 블라디미르 푸틴 러시아 대통령은 18일(현지시각) 올라프 ...\n",
       "1      국제  다음 달부터는 태국에 입국할 때 코로나19 PCR(유전자증폭) 검사 음성 결과서를 ...\n",
       "2      국제  러시아 중앙은행이 지난달 환율 방어 차원에서 급격히 인상했던 기준금리를 연 20% ...\n",
       "3      국제  라트비아, 에스토니아, 리투아니아 등 발트 3국이 모두 10명의 러시아 외교관을 추...\n",
       "4      사회  대설이 예고된 가운데 행정안전부는 밤 9시 기준으로 경보 수준을 ‘관심’에서 ‘주의...\n",
       "5      국제  우크라이나 영토 내에서 운송되는 의심스러운 화물은 러시아군의 공격 목표가 될 것이라...\n",
       "6      국제  시진핑 중국 국가주석은 “우크라이나 위기는 우리가 보고 싶어하지 않은 것”이라며 “...\n",
       "7      국제  블라디미르 푸틴 러시아 대통령은 러시아군의 우크라이나 군사작전은 우크라이나 동부 돈...\n",
       "8      국제  러시아군은 이스칸데르 미사일로 우크라이나군의 미사일 발사대를 파괴했다고 이고리 코나...\n",
       "9      국제  올라프 숄츠 독일 총리가 오는 24일(현지시각) 주요 7개국(G7) 정상회의를 소집...\n",
       "10     국제  오늘(18일) 밤 11시 25분에 일본 이와테현(혼슈) 모리오카 동북동쪽 87km ...\n",
       "11     국제  화물열차 운행 재개에 따라 올해 들어 2월까지 북한과 중국의 교역액이 전년 같은 기...\n",
       "12     국제  미국 국방정보 당국은 북한이 이란 등에 무기를 판매하는 것은 물론 쿠데타로 집권한 ...\n",
       "13     국제  우크라이나 전쟁이 길어지면서 민간인 사망자도 20여 일 만에 8백 명을 넘어섰습니다...\n",
       "14  IT·과학  오늘(18일) 밤 11시 25분쯤 일본 이와테현(혼슈) 모리오카 동북동쪽 87km ...\n",
       "15     국제  네덜란드와 독일 정부가 슬로바키아에 패트리엇 미사일 방어 체계를 보낼 것이라고 밝혔...\n",
       "16     국제  러시아와 우크라이나가 정부가 벌이고 있는 4차 평화협상에 대한 러시아측과 우크라이나...\n",
       "17     국제  볼로디미르 젤렌스키 우크라이나 대통령은 우크라이나 동남부 항구도시 마리우폴의 극장에...\n",
       "18     국제  미국 상무부는 러시아 항공사가 운영하는 비행기 100대에 대해 국제선 운항을 금지키...\n",
       "19     국제  시진핑 중국 국가주석은 우크라이나 사태와 관련해, \"미국과 북대서양조약기구(NATO..."
      ]
     },
     "execution_count": 2,
     "metadata": {},
     "output_type": "execute_result"
    }
   ],
   "source": [
    "#- 데이터 불러오기\n",
    "data = pd.read_csv('sample_data_10k.csv', encoding='UTF-8')\n",
    "data.head(20)"
   ]
  },
  {
   "cell_type": "code",
   "execution_count": 3,
   "metadata": {},
   "outputs": [
    {
     "name": "stdout",
     "output_type": "stream",
     "text": [
      "사회       3020\n",
      "국제       2172\n",
      "정치       1958\n",
      "경제       1186\n",
      "문화        307\n",
      "IT·과학     176\n",
      "남북의 창      58\n",
      "스포츠K       42\n",
      "Name: label, dtype: int64\n",
      "총 카테고리 수: 8919\n"
     ]
    }
   ],
   "source": [
    "#- 카테고리\n",
    "print(data.label.value_counts())\n",
    "print('총 카테고리 수:',len(data))"
   ]
  },
  {
   "cell_type": "code",
   "execution_count": 4,
   "metadata": {},
   "outputs": [],
   "source": [
    "#- 라벨 인코딩\n",
    "le = LabelEncoder()\n",
    "encoded_category = le.fit_transform(data['label'])\n",
    "data['label'] = encoded_category"
   ]
  },
  {
   "cell_type": "code",
   "execution_count": 5,
   "metadata": {},
   "outputs": [
    {
     "data": {
      "text/html": [
       "<div>\n",
       "<style scoped>\n",
       "    .dataframe tbody tr th:only-of-type {\n",
       "        vertical-align: middle;\n",
       "    }\n",
       "\n",
       "    .dataframe tbody tr th {\n",
       "        vertical-align: top;\n",
       "    }\n",
       "\n",
       "    .dataframe thead th {\n",
       "        text-align: right;\n",
       "    }\n",
       "</style>\n",
       "<table border=\"1\" class=\"dataframe\">\n",
       "  <thead>\n",
       "    <tr style=\"text-align: right;\">\n",
       "      <th></th>\n",
       "      <th>label</th>\n",
       "      <th>content</th>\n",
       "    </tr>\n",
       "  </thead>\n",
       "  <tbody>\n",
       "    <tr>\n",
       "      <th>0</th>\n",
       "      <td>2</td>\n",
       "      <td>우크라이나 침공을 감행한 블라디미르 푸틴 러시아 대통령은 18일(현지시각) 올라프 ...</td>\n",
       "    </tr>\n",
       "    <tr>\n",
       "      <th>1</th>\n",
       "      <td>2</td>\n",
       "      <td>다음 달부터는 태국에 입국할 때 코로나19 PCR(유전자증폭) 검사 음성 결과서를 ...</td>\n",
       "    </tr>\n",
       "    <tr>\n",
       "      <th>2</th>\n",
       "      <td>2</td>\n",
       "      <td>러시아 중앙은행이 지난달 환율 방어 차원에서 급격히 인상했던 기준금리를 연 20% ...</td>\n",
       "    </tr>\n",
       "    <tr>\n",
       "      <th>3</th>\n",
       "      <td>2</td>\n",
       "      <td>라트비아, 에스토니아, 리투아니아 등 발트 3국이 모두 10명의 러시아 외교관을 추...</td>\n",
       "    </tr>\n",
       "    <tr>\n",
       "      <th>4</th>\n",
       "      <td>5</td>\n",
       "      <td>대설이 예고된 가운데 행정안전부는 밤 9시 기준으로 경보 수준을 ‘관심’에서 ‘주의...</td>\n",
       "    </tr>\n",
       "    <tr>\n",
       "      <th>...</th>\n",
       "      <td>...</td>\n",
       "      <td>...</td>\n",
       "    </tr>\n",
       "    <tr>\n",
       "      <th>8914</th>\n",
       "      <td>5</td>\n",
       "      <td>또래 여학생을 대상으로 불법 촬영물을 제작하고, 이를 유포하겠다고 협박한 10대가 ...</td>\n",
       "    </tr>\n",
       "    <tr>\n",
       "      <th>8915</th>\n",
       "      <td>5</td>\n",
       "      <td>이혼조정으로 인해 재산 분할된 부동산을 3년 이상 미등기한 경우는 부동산실명법상 장...</td>\n",
       "    </tr>\n",
       "    <tr>\n",
       "      <th>8916</th>\n",
       "      <td>5</td>\n",
       "      <td>지난해 신규 고용을 한 국내외 투자기업에 인천시가 고용보조금을 지원하기로 했습니다....</td>\n",
       "    </tr>\n",
       "    <tr>\n",
       "      <th>8917</th>\n",
       "      <td>1</td>\n",
       "      <td>추경호 경제부총리 겸 기획재정부 장관이 물가 및 민생 안정을 최우선 과제로 설정하고...</td>\n",
       "    </tr>\n",
       "    <tr>\n",
       "      <th>8918</th>\n",
       "      <td>0</td>\n",
       "      <td>우리나라 최초 달 탐사선의 이름은 ‘다누리’로 결정됐습니다.  과학기술정보통신부는 ...</td>\n",
       "    </tr>\n",
       "  </tbody>\n",
       "</table>\n",
       "<p>8919 rows × 2 columns</p>\n",
       "</div>"
      ],
      "text/plain": [
       "      label                                            content\n",
       "0         2  우크라이나 침공을 감행한 블라디미르 푸틴 러시아 대통령은 18일(현지시각) 올라프 ...\n",
       "1         2  다음 달부터는 태국에 입국할 때 코로나19 PCR(유전자증폭) 검사 음성 결과서를 ...\n",
       "2         2  러시아 중앙은행이 지난달 환율 방어 차원에서 급격히 인상했던 기준금리를 연 20% ...\n",
       "3         2  라트비아, 에스토니아, 리투아니아 등 발트 3국이 모두 10명의 러시아 외교관을 추...\n",
       "4         5  대설이 예고된 가운데 행정안전부는 밤 9시 기준으로 경보 수준을 ‘관심’에서 ‘주의...\n",
       "...     ...                                                ...\n",
       "8914      5  또래 여학생을 대상으로 불법 촬영물을 제작하고, 이를 유포하겠다고 협박한 10대가 ...\n",
       "8915      5  이혼조정으로 인해 재산 분할된 부동산을 3년 이상 미등기한 경우는 부동산실명법상 장...\n",
       "8916      5  지난해 신규 고용을 한 국내외 투자기업에 인천시가 고용보조금을 지원하기로 했습니다....\n",
       "8917      1  추경호 경제부총리 겸 기획재정부 장관이 물가 및 민생 안정을 최우선 과제로 설정하고...\n",
       "8918      0  우리나라 최초 달 탐사선의 이름은 ‘다누리’로 결정됐습니다.  과학기술정보통신부는 ...\n",
       "\n",
       "[8919 rows x 2 columns]"
      ]
     },
     "execution_count": 5,
     "metadata": {},
     "output_type": "execute_result"
    }
   ],
   "source": [
    "#- 라벨 인코딩 확인\n",
    "data"
   ]
  },
  {
   "cell_type": "code",
   "execution_count": 6,
   "metadata": {},
   "outputs": [],
   "source": [
    "#- 데이터 분할\n",
    "train_data, test_data = train_test_split(data, test_size = 0.2, stratify=data['label'],random_state = 42)"
   ]
  },
  {
   "cell_type": "code",
   "execution_count": 7,
   "metadata": {},
   "outputs": [
    {
     "name": "stdout",
     "output_type": "stream",
     "text": [
      "label      0\n",
      "content    0\n",
      "dtype: int64\n"
     ]
    },
    {
     "name": "stderr",
     "output_type": "stream",
     "text": [
      "C:\\Users\\331\\AppData\\Local\\Temp\\ipykernel_14492\\892270072.py:2: FutureWarning: The default value of regex will change from True to False in a future version.\n",
      "  train_data['content'] = train_data['content'].str.replace(\"[^ㄱ-ㅎㅏ-ㅣ가-힣 ]\",\"\")\n"
     ]
    }
   ],
   "source": [
    "#- (train data)한글과 공백을 제외하고 모두 제거\n",
    "train_data['content'] = train_data['content'].str.replace(\"[^ㄱ-ㅎㅏ-ㅣ가-힣 ]\",\"\")\n",
    "train_data['content'].replace('', np.nan, inplace=True) #- 공백은 Null 값으로 변경\n",
    "print(train_data.isnull().sum())"
   ]
  },
  {
   "cell_type": "code",
   "execution_count": 8,
   "metadata": {},
   "outputs": [
    {
     "name": "stderr",
     "output_type": "stream",
     "text": [
      "C:\\Users\\331\\AppData\\Local\\Temp\\ipykernel_14492\\3670723546.py:2: FutureWarning: The default value of regex will change from True to False in a future version.\n",
      "  test_data['content'] = test_data['content'].str.replace(\"[^ㄱ-ㅎㅏ-ㅣ가-힣 ]\",\"\")\n"
     ]
    },
    {
     "name": "stdout",
     "output_type": "stream",
     "text": [
      "label      0\n",
      "content    0\n",
      "dtype: int64\n"
     ]
    }
   ],
   "source": [
    "#- (test data)한글과 공백을 제외하고 모두 제거\n",
    "test_data['content'] = test_data['content'].str.replace(\"[^ㄱ-ㅎㅏ-ㅣ가-힣 ]\",\"\")\n",
    "test_data['content'].replace('', np.nan, inplace=True) # 공백은 Null 값으로 변경\n",
    "print(test_data.isnull().sum())"
   ]
  },
  {
   "cell_type": "code",
   "execution_count": 9,
   "metadata": {},
   "outputs": [],
   "source": [
    "#- 불용어 제거\n",
    "stopwords = ['도', '는', '다', '의', '가', '이', '은', '한', '에', '하', '고', '을', '를', '인', '듯', '과', '와', '네', '들', '듯',\n",
    "             '지', '임', '게', '만',  '습니다','되', '음', '면', '했', '으로', '사진','해','로','등','에서','것','다고','라고', '중', '간',\n",
    "            '일','출처','년','월','이날','그','뒤','연합뉴스', '좀', '하다','했습니다','하고'\n",
    "            '할', '하는','오늘','말','된','대해','까지','시','씨','있는','관련','또','부터','대','자','위해',\n",
    "            '에게','에는','이번','이어','내','됩니다','합니다','되는','때','명','지난해', '있', '적', '할',\n",
    "            '입니다','됐', '었', '어', '면서', '연합', '뉴스', '받', '대한', '화', '않', '았','지난달',\n",
    "            '겠', '지난', '나타났', '이나','아', '해야', '돼', '없', '다며', '며', '그러','달','데','해서','이런',\n",
    "            '앞서','지금','라','같이','던','잘','더','나','측','다는','지만','천','성','는데요','거','죠','때문','좋','번','아요','라는','건', '싶', '어요', '저',\n",
    "            '한다','는데','아니','한다','된다','처럼','그리고','못하','준','그러나','다면','그런데','분','많']"
   ]
  },
  {
   "cell_type": "code",
   "execution_count": 10,
   "metadata": {},
   "outputs": [],
   "source": [
    "#- 형태소 분리\n",
    "#- 형태소: morphs / 명사: nouns\n",
    "mecab = Mecab() \n",
    "\n",
    "train_data['tokenized'] = train_data['content'].apply(mecab.morphs)\n",
    "train_data['tokenized'] = train_data['tokenized'].apply(lambda x: [item for item in x if item not in stopwords])\n",
    "test_data['tokenized'] = test_data['content'].apply(mecab.morphs)\n",
    "test_data['tokenized'] = test_data['tokenized'].apply(lambda x: [item for item in x if item not in stopwords])"
   ]
  },
  {
   "cell_type": "code",
   "execution_count": 11,
   "metadata": {},
   "outputs": [],
   "source": [
    "X_train = train_data['tokenized'].values\n",
    "y_train = train_data['label'].values\n",
    "X_test= test_data['tokenized'].values\n",
    "y_test = test_data['label'].values"
   ]
  },
  {
   "cell_type": "code",
   "execution_count": 12,
   "metadata": {},
   "outputs": [
    {
     "name": "stdout",
     "output_type": "stream",
     "text": [
      "각 카테고리별 데이터 수:\n",
      "[[   0    1    2    3    4    5    6    7]\n",
      " [ 141  949 1737   46  246 2416   34 1566]]\n"
     ]
    }
   ],
   "source": [
    "unique_elements, counts_elements = np.unique(y_train, return_counts=True)\n",
    "print(\"각 카테고리별 데이터 수:\")\n",
    "print(np.asarray((unique_elements, counts_elements)))"
   ]
  },
  {
   "attachments": {},
   "cell_type": "markdown",
   "metadata": {},
   "source": [
    "### tokenizer"
   ]
  },
  {
   "cell_type": "code",
   "execution_count": 13,
   "metadata": {},
   "outputs": [],
   "source": [
    "tokenizer = Tokenizer()\n",
    "tokenizer.fit_on_texts(X_train)"
   ]
  },
  {
   "cell_type": "code",
   "execution_count": 14,
   "metadata": {},
   "outputs": [
    {
     "name": "stdout",
     "output_type": "stream",
     "text": [
      "빈도수 2 이하 단어 수: 11941\n",
      "단어 집합(vocabulary)의 크기 : 34772\n",
      "등장 빈도가 1번 이하인 희귀 단어의 수: 11941\n",
      "단어 집합에서 희귀 단어의 비율: 34.340848958932476\n",
      "전체 등장 빈도에서 희귀 단어 등장 빈도 비율: 1.1720007537866\n"
     ]
    }
   ],
   "source": [
    "threshold = 2\n",
    "total_cnt = len(tokenizer.word_index) #- 단어의 수\n",
    "rare_cnt = 0 #- 등장 빈도수가 threshold보다 작은 단어의 개수를 카운트\n",
    "total_freq = 0 #- 훈련 데이터의 전체 단어 빈도수 총 합\n",
    "rare_freq = 0 #- 등장 빈도수가 threshold보다 작은 단어의 등장 빈도수의 총 합\n",
    "\n",
    "#- 단어와 빈도수의 쌍(pair)을 key와 value로 받는다.\n",
    "for key, value in tokenizer.word_counts.items():\n",
    "    total_freq = total_freq + value\n",
    "\n",
    "    #- 단어의 등장 빈도수가 threshold보다 작으면\n",
    "    if(value < threshold):\n",
    "        rare_cnt = rare_cnt + 1\n",
    "        rare_freq = rare_freq + value\n",
    "\n",
    "print('빈도수 2 이하 단어 수:',rare_freq)\n",
    "print('단어 집합(vocabulary)의 크기 :',total_cnt)\n",
    "print('등장 빈도가 %s번 이하인 희귀 단어의 수: %s'%(threshold - 1, rare_cnt))\n",
    "print(\"단어 집합에서 희귀 단어의 비율:\", (rare_cnt / total_cnt)*100)\n",
    "print(\"전체 등장 빈도에서 희귀 단어 등장 빈도 비율:\", (rare_freq / total_freq)*100)"
   ]
  },
  {
   "cell_type": "code",
   "execution_count": 15,
   "metadata": {},
   "outputs": [
    {
     "name": "stdout",
     "output_type": "stream",
     "text": [
      "단어 집합의 크기 : 22833\n"
     ]
    }
   ],
   "source": [
    "#- 전체 단어 개수 중 빈도수 2이하인 단어 개수는 제거\n",
    "#- 0번 패딩 토큰과 1번 OOV 토큰을 고려하여 +2\n",
    "vocab_size = total_cnt - rare_cnt + 2\n",
    "print('단어 집합의 크기 :',vocab_size)"
   ]
  },
  {
   "cell_type": "code",
   "execution_count": 16,
   "metadata": {},
   "outputs": [],
   "source": [
    "tokenizer = Tokenizer(vocab_size, oov_token = 'OOV') \n",
    "tokenizer.fit_on_texts(X_train)\n",
    "X_train = tokenizer.texts_to_sequences(X_train)\n",
    "X_test = tokenizer.texts_to_sequences(X_test)"
   ]
  },
  {
   "cell_type": "code",
   "execution_count": 17,
   "metadata": {},
   "outputs": [
    {
     "name": "stdout",
     "output_type": "stream",
     "text": [
      "뉴스의 최대 길이 : 2783\n",
      "뉴스의 평균 길이 : 142.7969166082691\n"
     ]
    },
    {
     "data": {
      "image/png": "[encoded data removed]",
      "text/plain": [
       "<Figure size 432x288 with 1 Axes>"
      ]
     },
     "metadata": {
      "needs_background": "light"
     },
     "output_type": "display_data"
    }
   ],
   "source": [
    "#- 시퀀스 길이 설정\n",
    "print('뉴스의 최대 길이 :',max(len(content) for content in X_train))\n",
    "print('뉴스의 평균 길이 :',sum(map(len, X_train))/len(X_train))\n",
    "plt.hist([len(content) for content in X_train], bins=50)\n",
    "plt.xlabel('length of samples')\n",
    "plt.ylabel('number of samples')\n",
    "plt.show()"
   ]
  },
  {
   "cell_type": "code",
   "execution_count": 18,
   "metadata": {},
   "outputs": [],
   "source": [
    "def below_threshold_len(max_len, nested_list):\n",
    "  count = 0\n",
    "  for sentence in nested_list:\n",
    "    if(len(sentence) <= max_len):\n",
    "        count = count + 1\n",
    "  print('전체 뉴스 데이터 중 길이가 %s 이하인 데이터의 비율: %s'%(max_len, (count / len(nested_list))*100))"
   ]
  },
  {
   "cell_type": "code",
   "execution_count": 19,
   "metadata": {},
   "outputs": [
    {
     "name": "stdout",
     "output_type": "stream",
     "text": [
      "전체 뉴스 데이터 중 길이가 500 이하인 데이터의 비율: 99.32725998598458\n"
     ]
    }
   ],
   "source": [
    "#- 최대 시퀀스 길이 설정 (대략 99% 내외로 권장)\n",
    "max_len = 500\n",
    "below_threshold_len(max_len, X_train)"
   ]
  },
  {
   "cell_type": "code",
   "execution_count": 20,
   "metadata": {},
   "outputs": [],
   "source": [
    "#- 패딩\n",
    "X_train = pad_sequences(X_train, maxlen=max_len)\n",
    "X_test = pad_sequences(X_test, maxlen=max_len)"
   ]
  },
  {
   "cell_type": "code",
   "execution_count": 21,
   "metadata": {},
   "outputs": [],
   "source": [
    "from keras.utils.np_utils import to_categorical\n",
    "y_train_cat = to_categorical(y_train)\n",
    "y_test_cat = to_categorical(y_test)"
   ]
  },
  {
   "attachments": {},
   "cell_type": "markdown",
   "metadata": {},
   "source": [
    "### Train"
   ]
  },
  {
   "cell_type": "code",
   "execution_count": 22,
   "metadata": {},
   "outputs": [],
   "source": [
    "import re\n",
    "from tensorflow.keras.layers import Embedding, Dense, LSTM, Bidirectional, Dropout\n",
    "from tensorflow.keras.models import Sequential\n",
    "from tensorflow.keras.models import load_model\n",
    "from tensorflow.keras.callbacks import EarlyStopping, ModelCheckpoint\n",
    "from tensorflow import keras"
   ]
  },
  {
   "cell_type": "code",
   "execution_count": 31,
   "metadata": {},
   "outputs": [
    {
     "name": "stdout",
     "output_type": "stream",
     "text": [
      "Epoch 1/20\n",
      "44/45 [============================>.] - ETA: 0s - loss: 1.5417 - acc: 0.4052\n",
      "Epoch 1: val_acc improved from -inf to 0.62158, saving model to BiLSTM_model.h5\n",
      "45/45 [==============================] - 6s 70ms/step - loss: 1.5383 - acc: 0.4082 - val_loss: 1.1603 - val_acc: 0.6216\n",
      "Epoch 2/20\n",
      "44/45 [============================>.] - ETA: 0s - loss: 0.8939 - acc: 0.7225\n",
      "Epoch 2: val_acc improved from 0.62158 to 0.75053, saving model to BiLSTM_model.h5\n",
      "45/45 [==============================] - 3s 58ms/step - loss: 0.8888 - acc: 0.7242 - val_loss: 0.8224 - val_acc: 0.7505\n",
      "Epoch 3/20\n",
      "45/45 [==============================] - ETA: 0s - loss: 0.5408 - acc: 0.8471\n",
      "Epoch 3: val_acc improved from 0.75053 to 0.83322, saving model to BiLSTM_model.h5\n",
      "45/45 [==============================] - 2s 53ms/step - loss: 0.5408 - acc: 0.8471 - val_loss: 0.5865 - val_acc: 0.8332\n",
      "Epoch 4/20\n",
      "44/45 [============================>.] - ETA: 0s - loss: 0.3966 - acc: 0.8832\n",
      "Epoch 4: val_acc improved from 0.83322 to 0.83882, saving model to BiLSTM_model.h5\n",
      "45/45 [==============================] - 2s 54ms/step - loss: 0.3969 - acc: 0.8830 - val_loss: 0.5422 - val_acc: 0.8388\n",
      "Epoch 5/20\n",
      "44/45 [============================>.] - ETA: 0s - loss: 0.2578 - acc: 0.9238\n",
      "Epoch 5: val_acc improved from 0.83882 to 0.84303, saving model to BiLSTM_model.h5\n",
      "45/45 [==============================] - 2s 49ms/step - loss: 0.2591 - acc: 0.9236 - val_loss: 0.5569 - val_acc: 0.8430\n",
      "Epoch 6/20\n",
      "45/45 [==============================] - ETA: 0s - loss: 0.1970 - acc: 0.9495\n",
      "Epoch 6: val_acc improved from 0.84303 to 0.85144, saving model to BiLSTM_model.h5\n",
      "45/45 [==============================] - 2s 50ms/step - loss: 0.1970 - acc: 0.9495 - val_loss: 0.5958 - val_acc: 0.8514\n",
      "Epoch 7/20\n",
      "45/45 [==============================] - ETA: 0s - loss: 0.1656 - acc: 0.9585\n",
      "Epoch 7: val_acc improved from 0.85144 to 0.85774, saving model to BiLSTM_model.h5\n",
      "45/45 [==============================] - 2s 51ms/step - loss: 0.1656 - acc: 0.9585 - val_loss: 0.5480 - val_acc: 0.8577\n",
      "Epoch 8/20\n",
      "44/45 [============================>.] - ETA: 0s - loss: 0.1326 - acc: 0.9602\n",
      "Epoch 8: val_acc did not improve from 0.85774\n",
      "45/45 [==============================] - 2s 49ms/step - loss: 0.1324 - acc: 0.9604 - val_loss: 0.6008 - val_acc: 0.8458\n",
      "Epoch 8: early stopping\n"
     ]
    }
   ],
   "source": [
    "embedding_dim = 100\n",
    "hidden_units = 128\n",
    "#num_filters = 64\n",
    "\n",
    "model = Sequential()\n",
    "model.add(Embedding(vocab_size, embedding_dim))\n",
    "model.add(Bidirectional(LSTM(hidden_units)))\n",
    "#model.add(Dropout(0.3))\n",
    "#model.add(Dense(num_filters, activation='relu'))\n",
    "model.add(Dense(8, activation='softmax'))\n",
    "\n",
    "es = EarlyStopping(monitor='val_loss', mode='min', verbose=1, patience=4)\n",
    "mc = ModelCheckpoint('BiLSTM_model.h5', monitor='val_acc', mode='max', verbose=1, save_best_only=True)\n",
    "opt = keras.optimizers.Adam(learning_rate=0.001)\n",
    "\n",
    "model.compile(optimizer=opt, loss='CategoricalCrossentropy', metrics=['acc'])\n",
    "history = model.fit(X_train, y_train_cat, epochs=20, callbacks=[es, mc], batch_size=128, validation_split=0.2)"
   ]
  },
  {
   "attachments": {},
   "cell_type": "markdown",
   "metadata": {},
   "source": [
    "### Evaluation"
   ]
  },
  {
   "cell_type": "code",
   "execution_count": 32,
   "metadata": {},
   "outputs": [
    {
     "name": "stdout",
     "output_type": "stream",
     "text": [
      "56/56 [==============================] - 2s 20ms/step - loss: 0.6125 - acc: 0.8430\n",
      "\n",
      " 테스트 정확도: 0.8430\n"
     ]
    }
   ],
   "source": [
    "loaded_model = load_model('BiLSTM_model.h5')\n",
    "print(\"\\n 테스트 정확도: %.4f\" % (loaded_model.evaluate(X_test, y_test_cat)[1]))"
   ]
  },
  {
   "cell_type": "code",
   "execution_count": 33,
   "metadata": {},
   "outputs": [
    {
     "name": "stdout",
     "output_type": "stream",
     "text": [
      "56/56 [==============================] - 2s 16ms/step\n",
      "              precision    recall  f1-score   support\n",
      "\n",
      "           0       0.24      0.14      0.18        35\n",
      "           1       0.76      0.71      0.73       237\n",
      "           2       0.92      0.95      0.93       435\n",
      "           3       0.80      0.33      0.47        12\n",
      "           4       0.39      0.67      0.50        61\n",
      "           5       0.83      0.90      0.87       604\n",
      "           6       0.00      0.00      0.00         8\n",
      "           7       0.89      0.74      0.81       392\n",
      "\n",
      "    accuracy                           0.82      1784\n",
      "   macro avg       0.60      0.56      0.56      1784\n",
      "weighted avg       0.83      0.82      0.82      1784\n",
      "\n"
     ]
    },
    {
     "name": "stderr",
     "output_type": "stream",
     "text": [
      "d:\\anaconda3\\envs\\craw\\lib\\site-packages\\sklearn\\metrics\\_classification.py:1327: UndefinedMetricWarning: Precision and F-score are ill-defined and being set to 0.0 in labels with no predicted samples. Use `zero_division` parameter to control this behavior.\n",
      "  _warn_prf(average, modifier, msg_start, len(result))\n",
      "d:\\anaconda3\\envs\\craw\\lib\\site-packages\\sklearn\\metrics\\_classification.py:1327: UndefinedMetricWarning: Precision and F-score are ill-defined and being set to 0.0 in labels with no predicted samples. Use `zero_division` parameter to control this behavior.\n",
      "  _warn_prf(average, modifier, msg_start, len(result))\n",
      "d:\\anaconda3\\envs\\craw\\lib\\site-packages\\sklearn\\metrics\\_classification.py:1327: UndefinedMetricWarning: Precision and F-score are ill-defined and being set to 0.0 in labels with no predicted samples. Use `zero_division` parameter to control this behavior.\n",
      "  _warn_prf(average, modifier, msg_start, len(result))\n"
     ]
    }
   ],
   "source": [
    "rounded_labels=np.argmax(y_test_cat, axis=1)\n",
    "from sklearn.metrics import classification_report\n",
    "print(classification_report(rounded_labels, np.argmax(model.predict(X_test), axis=-1)))"
   ]
  },
  {
   "cell_type": "code",
   "execution_count": 34,
   "metadata": {},
   "outputs": [
    {
     "data": {
      "image/png": "[encoded data removed]",
      "text/plain": [
       "<Figure size 432x288 with 1 Axes>"
      ]
     },
     "metadata": {
      "needs_background": "light"
     },
     "output_type": "display_data"
    }
   ],
   "source": [
    "epochs = range(1, len(history.history['acc']) + 1)\n",
    "plt.plot(epochs, history.history['loss'])\n",
    "plt.plot(epochs, history.history['val_loss'])\n",
    "plt.title('model loss')\n",
    "plt.ylabel('loss')\n",
    "plt.xlabel('epoch')\n",
    "plt.legend(['train', 'test'], loc='upper left')\n",
    "plt.show()"
   ]
  },
  {
   "attachments": {},
   "cell_type": "markdown",
   "metadata": {},
   "source": [
    "### + DEMO test"
   ]
  },
  {
   "cell_type": "code",
   "execution_count": 39,
   "metadata": {},
   "outputs": [
    {
     "name": "stdout",
     "output_type": "stream",
     "text": [
      "5    3020\n",
      "2    2172\n",
      "7    1958\n",
      "1    1186\n",
      "4     307\n",
      "0     176\n",
      "3      58\n",
      "6      42\n",
      "Name: label, dtype: int64\n"
     ]
    }
   ],
   "source": [
    "print(data.label.value_counts()) #-- 인코딩 된 라벨에 맞게 코드 변경"
   ]
  },
  {
   "cell_type": "code",
   "execution_count": 36,
   "metadata": {},
   "outputs": [],
   "source": [
    "def sentiment_predict(new_sentence):\n",
    "    new_sentence = re.sub(r'[^ㄱ-ㅎㅏ-ㅣ가-힣 ]','', new_sentence)\n",
    "    new_sentence = mecab.morphs(new_sentence) #- 토큰화\n",
    "    new_sentence = [word for word in new_sentence if not word in stopwords] #- 불용어 제거\n",
    "    encoded = tokenizer.texts_to_sequences([new_sentence]) #- 정수 인코딩\n",
    "    pad_new = pad_sequences(encoded, maxlen = 500) #- 패딩\n",
    "    pre_cat = np.argmax(loaded_model.predict(pad_new), axis=-1) #- 예측\n",
    "    socre = np.max(loaded_model.predict(pad_new))\n",
    "    pre_value = pre_cat[0]\n",
    "    if pre_value == 0:\n",
    "        print(\"해당 뉴스 기사 카테고리는 %.5f의 확률로 '과학'로 예측됩니다.\"%socre)\n",
    "    elif pre_value == 1:\n",
    "        print(\"해당 뉴스 기사 카테고리는 %.5f의 확률로 '경제'로 예측됩니다.\"%socre)\n",
    "    elif pre_value == 2:\n",
    "        print(\"해당 뉴스 기사 카테고리는 %.5f의 확률로 '국제'으로 예측됩니다.\"%socre)\n",
    "    elif pre_value == 3:\n",
    "        print(\"해당 뉴스 기사 카테고리는 %.5f의 확률로 '대북'로 예측됩니다.\"%socre)\n",
    "    elif pre_value == 4:\n",
    "        print(\"해당 뉴스 기사 카테고리는 %.5f의 확률로 '문화'으로 예측됩니다.\"%socre)\n",
    "    elif pre_value == 5:\n",
    "        print(\"해당 뉴스 기사 카테고리는 %.5f의 확률로 '사회'로 예측됩니다.\"%socre)\n",
    "    elif pre_value == 6:\n",
    "        print(\"해당 뉴스 기사 카테고리는 %.5f의 확률로 '스포츠'로 예측됩니다.\"%socre)\n",
    "    elif pre_value == 7:\n",
    "        print(\"해당 뉴스 기사 카테고리는 %.5f의 확률로 '정치'로 예측됩니다.\"%socre)"
   ]
  },
  {
   "cell_type": "code",
   "execution_count": 37,
   "metadata": {},
   "outputs": [],
   "source": [
    "#- 샘플 데이터\n",
    "sample_a = '문재인 대통령은 “개인 안전 장비 확충과 교육훈련 지원에 더욱 힘을 기울여 의용소방대의 활동 기반을 강화하고 복리를 증진해 나가겠다”고 밝혔습니다.문 대통령은 ‘제1회 의용소방대의 날’인 오늘(19일) SNS에 올린 메시지에서 “보람과 긍지로 따뜻한 이웃이 되어 온 대원들이 참으로 자랑스럽다”면서 이같이 말했습니다.문 대통령은 “세종대왕은 금화도감을 설치해 화재를 상설 관리했고, 통행금지 시간인 밤 10시가 지난 뒤에도 불을 끌 수 있도록 신패를 만들었다”며 “의용소방대의 역사는 매우 오래됐다”고 설명했습니다.그러면서 “1915년부터 활동기록을 남긴 지금의 의용소방대는 1958년 소방법이 제정돼 공식적인 민간소방관 자격을 갖게 됐다”고 말했습니다.문 대통령은 “의용소방대는 광역과 기초자치단체별로 전국에 3천921곳이 구성됐고, 안전관리와 긴급구호, 자원봉사 등 폭넓은 활동을 펼치고 있다”며 “경북과 강원 대형산불 현장에 5천 명이 넘는 대원이 지원에 나섰다”고 떠올렸습니다.이어 “정부는 의용소방대원들의 자긍심을 높이고 숭고한 정신을 기리고자 매년 3월 19일을 의용소방대의 날로 명명하고 법정기념일로 정했다”며 “의용소방대법을 개정해 재해보상과 포상에서 실질적 예우도 가능해졌다”고 강조했습니다.문 대통령은 “의용소방대의 날을 맞아 고귀한 봉사 정신을 함께 나눌 수 있게 돼 기쁘다”며 “우리의 이웃으로 국민의 안전과 생명을 지켜온 전국의 10만 의용소방대원 한 분 한 분께 축하와 존경의 말씀을 드린다”고 덧붙였습니다.'\n",
    "sample_b = '온라인 쇼핑 등이 늘어나면서 지난해 경제활동인구 기준으로 1인당 2.84일에 한 번꼴로 택배를 이용한 것으로 나타났습니다. 국가물류통합정보센터가 한국통합물류협회 통계를 인용해 내놓은 자료에 따르면 지난해 총 택배 물량은 36억2천967만 개로 전년보다 7.6% 증가했습니다.택배물량은 2019년 9.7% 증가한 데 이어 2020년에는 20.9%, 작년에는 7.6% 늘어나는 등 증가세를 이어가고 있습니다. 경제활동인구를 기준으로 1인당 택배 이용 횟수는 연 128.4회로, 전년 대비 6.4회 늘었고 평균 2.84일에 한 번꼴로 택배를 이용한 셈입니다. 지난해 국내 택배시장의 총매출액은 8조5천800억 원으로, 전년보다 14.6% 증가했습니다.'\n",
    "sample_c = '과학기술정보통신부가 민간 분야 사이버위기 경보 단계를 종전 ‘관심’에서 ‘주의’로 한 단계 상향 조정한다고 오늘(21일) 밝혔습니다.  이는 우크라이나 사태 관련해 사이버전이 확산하고 국내 기업의 랜섬웨어 및 정보유출 등 사고 발생 등 국내외적으로 사이버 위협 우려가 커짐에 따른 선제적 조치라고 과기정통부는 설명했습니다.  사이버위기 경보 단계는 가장 낮은 ‘정상’부터 시작해 ‘관심-주의-경계-심각’ 순으로 높아집니다.  과기정통부는 경보 단계를 ‘주의’로 올림에 따라 민·관·군 협동으로 사이버 위헙 정보 공유 등 24시간 비상대응체계를 강화합니다.  또, 관련 기관과 기업은 정보시스템 취약 부분에 대한 사전 점검을 진행하고 사이버위협 모니터링을 보다 면밀히 진행합니다.  과기정통부는 사회적 이슈 등을 악용한 스미싱에 주의할 것을 국민들에게 알리는 한편, 피해 발생 시 ☎ 118에 즉시 신고해줄 것을 당부했습니다.'\n",
    "sample_d = '우크라이나 침공을 감행한 블라디미르 푸틴 러시아 대통령은 18일(현지시각) 올라프 숄츠 독일 총리와 전화 통화를 하고 우크라이나가 평화협상을 지연시키고 있다고 주장했습니다. 로이터 통신과 AFP 통신 등 외신에 따르면 크렘린궁은 이날 푸틴 대통령이 숄츠 총리와의 통화에서 “키이우 정권(우크라이나)이 갈수록 비현실적인 제안을 내놓으면서 협상 절차를 지연시키기 위해 가능한 모든 방안을 시도하고 있다고 언급했다”고 전했습니다. 크렘린궁은 “그렇더라도, 러시아 측은 원칙에 입각한 접근 방식에 따라 해결책을 계속해서 모색할 준비가 돼 있다”고 밝혔습니다. 한편, 이날 드미트리 페스코프 크렘린궁 대변인은 조 바이든 미국 대통령이 지난 16일 푸틴 대통령을 ‘전범’으로 공개적으로 규정한 데 이어 17일 ‘살인 독재자’, ‘폭력배’ 등으로 칭하며 발언 수위를 높인 것을 “인신공격”이라고 비판하기도 했습니다.'\n",
    "sample_e = '최근 북한의 강경 행보는 방금 보신 군사 분야에만 국한된 것은 아닙니다.금강산의 우리 측 시설인 해금강호텔을 철거하는 정황도 포착됐습니다. 2019년 금강산의 남측 시설을 모두 철거하라는 김정은 위원장 지시가 있었는데요. 코로나 19를 구실로 그동안 연기하다가 아무런 통보 없이 이행에 들어간 것으로 보입니다. 북한은 남북 화해 상징이던 금강산 시설까지 철거하면서 정권 교체기 남한 정부를 압박하려고 애쓰는 모습입니다. 이번 주 클로즈업 북한에선 민족의 명산인 금강산의 어제와 오늘을 짚어보겠습니다.   [리포트]1998년 11월 동해항. 2만8천 톤의 ‘현대 금강호’가 실향민과 관광객 천4백여 명을 싣고 북한 장전항으로 떠났다.  [\"대한민국 만세!\"] 분단 반세기, 금단의 땅으로 여겨졌던 금강산의 문이 열리는 순간이었다. 구룡폭포와 만물상, 해금강 등 금강산의 절경들이 남측 관광객들을 맞았다. 분단과 전쟁의 상처로 얼룩진 한반도에 금강산은 평화와 화해의 상징으로 다가왔다. 그러나 금강산관광이 10년 넘게 중단되면서 우리 측이 투자, 건설한 시설물들도 고스란히 방치되고 있다. 급기야 2019년 10월, 김정은 북한 국무위원장은 금강산 일대의 남측 시설을 들어내라고 지시했다. [조선중앙TV : \"볼품없이 들어앉아 명산의 경관을 손상시키는 너절한 시설물들을 싹 다 드러내고 누구나 조선의 명산을 보러 왔다가 조선의 건축을 볼 수 있게 우리 식으로 처음부터 새롭게 다시 꾸립시다.\"] 그리고 지난 12일과 17일, ‘미국의 소리’ 방송은 금강산 해금강호텔이 철거되고 있다면서 옥상 일부가 뜯긴 민간 위성사진을 공개했다. 우리 정부 당국도 철거 정황을 확인했지만, 북한의 공식 통보는 없었다며 신중한 입장을 취하고 있다. 그러면서도 금강산 관광 관련 사안은 반드시 남북 간 협의가 필요하다는 것을 거듭 강조했다. [이종주/통일부 대변인 : \"정부는 금강산 관광과 관련하여 우리 기업의 재산권을 침해하는 북측의 일방적인 조치가 있어서는 안 되며 모든 사안은 남북 간 협의를 통해 해결해 나가야 한다는 입장에서 일관되게 대처해 오고 있다는 점을 말씀드립니다.\"]'\n",
    "sample_f = '‘국보’로 지정된 불교 문화재 2점이 경매에 나왔습니다. 국가지정문화재 국보가 경매에 출품되는 건 처음입니다. 미술품 경매회사 케이옥션은 오는 27일(목) 진행되는 올해 첫 메이저 경매에 국보 ‘금동삼존불감’과 국보 ‘계미명금동삼존불입상’이 출품된다고 오늘(14일) 밝혔습니다. 이 유물들은 간송미술관 소장품입니다. 11~12세기에 제작된 거로 추정되는 국보 ‘금동삼존불감’은 사찰 내부에 조성된 불전을 그대로 축소한 것으로, 높이는 18cm입니다. 흔히 원불(願佛)이라 해서 개인이 사찰 밖에서 예불을 드리기 위해 만든 겁니다. 전체적인 보존 상태가 좋고 고려 시대 또는 그 이전의 목조건축 양식과 조각 수법을 보여주는 귀중한 예라는 점에서 가치가 큰 것으로 평가됩니다. 함께 출품된 국보 ‘계미명금동삼존불입상’은 6세기 초반 동아시아에서 호신불로 유행한 금동삼존불상으로, 높이는 17.7cm입니다. 하나의 광배 안에 주불상과 양쪽으로 협시보살이 나란히 새겨진 일광삼존(一光三尊) 양식으로, 광배 뒷면에 새겨진 글에 의해 백제 위덕왕 10년(563)에 만든 것으로 추정됩니다. 재정난 타개를 위해 2020년부터 소장 유물을 경매에 내놓고 있는 간송미술문화재단은 오늘(14일) 입장문을 내 “구조조정을 위한 소장품의 매각이라는 어려운 결정을 다시 할 수밖에 없게 되어 송구한 마음이 크다.”면서 “앞으로 간송이 나아갈 방향에 대한 많은 고민 끝에 간송의 미래를 위해 어렵게 내린 결정이니 너그러이 혜량해 주시기 바란다.”고 전했습니다. 간송미술관은 앞서 2020년 5월 소장하고 있는 불상 2점을 경매에 내놓았다가 거센 논란에 휩싸였습니다. 당시에 출품된 불상 2점은 경매에서 유찰됐고, 이후 국립중앙박물관이 구매해 소장하고 있습니다. 국가지정문화재는 해외에는 판매할 수 없지만, 국내에서는 문화재청에 신고하면 매매할 수 있습니다.간송미술관은 일제강점기에 중요한 문화재를 대거 수집해 우리 문화유산을 지킨 사업가 간송 전형필(1906~1962)이 세운 우리나라 최초의 사립미술관으로, 국보 훈민정음 해례본과 신윤복의 미인도 등 중요 문화재를 많이 소장하고 있습니다.'\n",
    "sample_g = '대설이 예고된 가운데 행정안전부는 밤 9시 기준으로 경보 수준을 ‘관심’에서 ‘주의’로 상향 조정하고 중앙재난안전대책본부 비상근무 1단계를 가동했습니다.  행안부는 오늘(18일) 밤부터 내일(19일) 오후까지 중부지방을 중심으로 많은 눈이 내릴 것으로 내다봤습니다.  또, 행안부는 주말 동안 유동인구 증가에 대비해 고속도로, 국도, 주요 간선 도로를 중심으로 제설작업을 하고 작업자 안전에 유의할 것을 요청했습니다.  이어, 주요 도로 작업 뒤 시가지 이면도로, 인도, 농촌 지역 마을안길 등을 점검하고 조치해달라고 당부했습니다.'\n",
    "sample_h = 'LG 트윈스는 당연히 4강 후보 중 한 팀이다.\" KBS N 신임 해설위원 유희관의 말이다.  LG가 지난해 우승팀 KT 등과 함께 정상을 다툴 것이라고 예상하는 전문가들이 많다. 전문가들은 이구동성으로 LG의 투수력이 탄탄하다고 분석한다. LG는 2021시즌 후 기존 외국인 투수 케이시 켈리와 재계약했다. 또 다른 외국인 투수 앤드루 수아레스는 일본 프로야구 야쿠르트 스왈로스로 이적했지만, 팀 내부에선 별다른 걱정이 없는 분위기다. 메이저리그 출신 아담 플럿코가 위력적인 공을 구사하고 있기 때문이다. 지난해까지 메이저리그 볼티모어에서 뛰었던 플럿코는 빅리그 통산 88경기에서 14승 14패, 평균자책점(ERA) 5.39를 기록했다.  14일 시범경기에선 3이닝 1안타 6탈삼진 무실점을 기록했다. 당시 플럿코는 까다로운 타자 이용규를 3구 삼진으로 돌려세운 것은 물론 송성문과 이정후까지 삼진으로 잡아냈다. 그리고 LG가 믿는 또 한 명의 투수는 2020 신인 드래프트 당시 1차 지명의 영광을 안은 21살의 우완 이민호다. LG는 20일 창원NC파크에서 열린 NC 다이노스와의 시범경기에서 선발 이민호의 역투를 앞세워 5대 2 승리를 거뒀다. 이민호는 4와 2/3이닝 동안 1실점하며 개막에 맞춰 몸 상태를 끌어올리고 있다. 직구 구속은 벌써 시속 150km 가까이 나왔다. 지난 2년간 각각 8승과 4승, 총 12승을 기록했던 이민호는 올 시즌 생애 첫 10승에 도전한다.  프로에 입문했던 2020년에는 이닝 제한을 두고 97과 3분의 2이닝만을 소화했기 때문에 어깨도 싱싱하다.  지난해 115이닝으로 이닝 소화를 늘렸지만, 규정 이닝인 144이닝과는 차이가 난다. 올해는 첫 규정 이닝 돌파도 당연한 목표이다.  LG 영건 이민호가 고척 돔구장에서 인터뷰하고 있다. 다음은 이민호와 1문 1답이다. - 시범경기 컨디션이 좋아 보인다? 겨울 동안 준비해 왔던 투구를 시험해 보고 있다. 시범경기지만 결과도 좋았고 다행이다. - 스트라이크 비율이 높아졌나? 올해 스트라이크 존이 높고 넓어졌다. 원래 스트라이크 존대로 심판들이 잡아준다고 해서 기분도 좋고 자신감도 좋아졌다. 저는 구위가 좋으니까 내 공을 믿고 있다. 자신 있게 던지면서 \"칠테면 쳐봐라.\" 하고 마음먹고 있다. 한결 던지기가 편하다. - 올 시즌 목표는? 안 아프고 한 시즌 내내 로테이션 소화하며 계속 던지는 것이다. 안 아프다는 조건 속에 규정 이닝도 넘기고 싶다. 많이 던지고 싶다. 아직 승수는 모르겠다. - 잠실 3루 더그아웃 시설도 좋아졌는데? 한 번만 지나가 봤다. 잠실 원정 라커룸을 공사해서 정말 좋아졌더라. 지난해보다 너무 좋아졌고, 쉴 수 있는 공간도 넓어졌고 겉으로 보기에도 너무 좋다. - LG 팬들에게 한마디 올 시즌은 개막전부터 관중이 100% 들어오길 기대하고 있다. 잠실구장 만원 관중 앞에서 던져보고 싶다. 우리 팀이 최대한 높은 자리(1위)에 있을 것이다. 그 목표를 향해 던질 것이다. 팬들이 많이 오신다면 더욱 힘이 날 것이다. LG 팬들을 위해 정말 온 힘을 다해 던지고 싶다.'"
   ]
  },
  {
   "cell_type": "code",
   "execution_count": 38,
   "metadata": {},
   "outputs": [
    {
     "name": "stdout",
     "output_type": "stream",
     "text": [
      "1/1 [==============================] - 1s 638ms/step\n",
      "1/1 [==============================] - 0s 33ms/step\n",
      "해당 뉴스 기사 카테고리는 0.99456의 확률로 '정치'로 예측됩니다.\n",
      "1/1 [==============================] - 0s 34ms/step\n",
      "1/1 [==============================] - 0s 31ms/step\n",
      "해당 뉴스 기사 카테고리는 0.91358의 확률로 '경제'로 예측됩니다.\n",
      "1/1 [==============================] - 0s 31ms/step\n",
      "1/1 [==============================] - 0s 30ms/step\n",
      "해당 뉴스 기사 카테고리는 0.26248의 확률로 '사회'로 예측됩니다.\n",
      "1/1 [==============================] - 0s 35ms/step\n",
      "1/1 [==============================] - 0s 28ms/step\n",
      "해당 뉴스 기사 카테고리는 0.99441의 확률로 '국제'으로 예측됩니다.\n",
      "1/1 [==============================] - 0s 28ms/step\n",
      "1/1 [==============================] - 0s 24ms/step\n",
      "해당 뉴스 기사 카테고리는 0.99421의 확률로 '정치'로 예측됩니다.\n",
      "1/1 [==============================] - 0s 27ms/step\n",
      "1/1 [==============================] - 0s 26ms/step\n",
      "해당 뉴스 기사 카테고리는 0.67005의 확률로 '문화'으로 예측됩니다.\n",
      "1/1 [==============================] - 0s 27ms/step\n",
      "1/1 [==============================] - 0s 28ms/step\n",
      "해당 뉴스 기사 카테고리는 0.91649의 확률로 '사회'로 예측됩니다.\n",
      "1/1 [==============================] - 0s 28ms/step\n",
      "1/1 [==============================] - 0s 27ms/step\n",
      "해당 뉴스 기사 카테고리는 0.53069의 확률로 '문화'으로 예측됩니다.\n"
     ]
    }
   ],
   "source": [
    "#- 데모 테스트\n",
    "sentiment_predict(sample_a) #- 정치\n",
    "sentiment_predict(sample_b) #- 경제\n",
    "sentiment_predict(sample_c) #- 과학\n",
    "sentiment_predict(sample_d) #- 국제\n",
    "sentiment_predict(sample_e) #- 대북\n",
    "sentiment_predict(sample_f) #- 문화\n",
    "sentiment_predict(sample_g) #- 사회\n",
    "sentiment_predict(sample_h) #- 스포츠"
   ]
  },
  {
   "cell_type": "code",
   "execution_count": null,
   "metadata": {},
   "outputs": [],
   "source": []
  }
 ],
 "metadata": {
  "kernelspec": {
   "display_name": "Python 3.8.13 ('craw')",
   "language": "python",
   "name": "python3"
  },
  "language_info": {
   "codemirror_mode": {
    "name": "ipython",
    "version": 3
   },
   "file_extension": ".py",
   "mimetype": "text/x-python",
   "name": "python",
   "nbconvert_exporter": "python",
   "pygments_lexer": "ipython3",
   "version": "3.8.13"
  },
  "orig_nbformat": 4,
  "vscode": {
   "interpreter": {
    "hash": "f97663bcf13bda84a2fccf6bb3d6bacc9cc70491763236fb82b3145fddda44a1"
   }
  }
 },
 "nbformat": 4,
 "nbformat_minor": 2
}
